{
 "cells": [
  {
   "attachments": {},
   "cell_type": "markdown",
   "metadata": {},
   "source": [
    "# 粗格栅计算部分\n",
    "最大流量：35000 m3/d"
   ]
  },
  {
   "cell_type": "code",
   "execution_count": 49,
   "metadata": {},
   "outputs": [
    {
     "name": "stdout",
     "output_type": "stream",
     "text": [
      "Q= 405.093 L/s\n",
      "Kz= 1.66\n",
      "Qmax= 0.672 m3/s\n",
      "2台格栅机，每台栅条间隙数: 28 条\n",
      "格栅宽度: 1.93 m\n"
     ]
    }
   ],
   "source": [
    "import math\n",
    "\n",
    "Q=round(35000*(1000/(24*60*60)),3) # 单位L/s\n",
    "print(\"Q=\",Q,\"L/s\")\n",
    "Kz=1.66\n",
    "print(\"Kz=\",Kz)\n",
    "Qmax=Q*Kz # 单位L/s\n",
    "Qmax=round(Qmax/1000,3) # 单位m3/s\n",
    "print(\"Qmax=\",Qmax,\"m3/s\")\n",
    "\n",
    "# 格栅设计\n",
    "S=0.01 # 格栅宽度，老师给出，取0.01m\n",
    "alpha=60/180*math.pi # 45-75之间，取60度\n",
    "h=0.63 # 栅前水深，取0.4m\n",
    "v=0.85 # 0.4-0.9之间，取0.8.5m/s\n",
    "b=0.021 # 栅条间隙，取0.021m\n",
    "\n",
    "set_number = 2 # 格栅集机器台数\n",
    "n=math.ceil(Qmax/set_number*(math.sin(alpha))**0.5/(b*h*v)) # 栅条间隙数\n",
    "print(f\"{set_number}台格栅机，每台栅条间隙数:\",n,\"条\")\n",
    "B=round(S*(n*set_number-1)+b*n*set_number+0.2,2)\n",
    "print(\"格栅宽度:\",B,\"m\")"
   ]
  },
  {
   "cell_type": "code",
   "execution_count": 50,
   "metadata": {},
   "outputs": [
    {
     "name": "stdout",
     "output_type": "stream",
     "text": [
      "阻力系数xi: 0.8998904432372254\n",
      "计算水头损失h0: 0.028727779019228777 m\n",
      "计算水头损失h1: 0.086 m\n"
     ]
    }
   ],
   "source": [
    "beta=2.42 # 取锐边矩形，取2.42\n",
    "g=9.8 # m3/s\n",
    "xi=beta*(S/b)**(4/3) # 阻力系数\n",
    "print(\"阻力系数xi:\",xi)\n",
    "k=3 # 系数，一般取3\n",
    "\n",
    "h0=xi*v**2/(2*g)*math.sin(alpha) # 计算水头损失\n",
    "print(\"计算水头损失h0:\",h0,\"m\")\n",
    "h1=round(h0*k,3) # 污水通过格栅的水头损失，0.08-0.15m\n",
    "print(\"计算水头损失h1:\",h1,\"m\")"
   ]
  },
  {
   "cell_type": "code",
   "execution_count": 51,
   "metadata": {},
   "outputs": [
    {
     "name": "stdout",
     "output_type": "stream",
     "text": [
      " 栅后槽高度: 1.016 m\n"
     ]
    }
   ],
   "source": [
    "h2=0.3 # 一般取0.5m\n",
    "H=h+h1+h2\n",
    "print(\" 栅后槽高度:\",H,\"m\")"
   ]
  },
  {
   "cell_type": "code",
   "execution_count": 52,
   "metadata": {},
   "outputs": [
    {
     "name": "stdout",
     "output_type": "stream",
     "text": [
      "栅槽总长量: 5.436 m\n",
      "0.9204049355172984 0.4602024677586492 0.9299999999999999\n"
     ]
    }
   ],
   "source": [
    "H1=h+h2 # 提前渠道深度，m\n",
    "alpha1=20/180*math.pi # 取20度\n",
    "B1=1.26 # 进水渠宽，取1.18m\n",
    "l1=(B-B1)/(2*math.tan(alpha1)) # 进水渠道渐宽部分的长度\n",
    "l2=l1/2 # 栅槽渔渐宽部分长度\n",
    "L=round(l1+l2+1.0+0.5+H1/math.tan(alpha1),3) # 栅槽总长量，m\n",
    "print(\"栅槽总长量:\",L,\"m\")\n",
    "print(l1,l2,H1)"
   ]
  },
  {
   "cell_type": "code",
   "execution_count": 53,
   "metadata": {},
   "outputs": [
    {
     "name": "stdout",
     "output_type": "stream",
     "text": [
      "2个机器，每个W= 1.224 m3/d\n"
     ]
    }
   ],
   "source": [
    "W1=0.07 # 格栅间隙b=0.021m在10-25mm之间，W1取0.120-0.050 m3/10^3 m3, 0.07\n",
    "W=round((Qmax/set_number*W1*86400)/(Kz*1000),3) # 每日栅渣量，m3/d\n",
    "print(f\"{set_number}个机器，每个W=\",W,\"m3/d\")"
   ]
  },
  {
   "attachments": {},
   "cell_type": "markdown",
   "metadata": {},
   "source": [
    "# 沉沙池计算部分"
   ]
  },
  {
   "cell_type": "code",
   "execution_count": 54,
   "metadata": {},
   "outputs": [
    {
     "name": "stdout",
     "output_type": "stream",
     "text": [
      "2个机器，每个V= 604.8 m3\n"
     ]
    }
   ],
   "source": [
    "t=30 # 30-60s\n",
    "V=round(Qmax/set_number*t*60,3) # 池子总有效容积\n",
    "print(f\"{set_number}个机器，每个V=\",V,\"m3\")"
   ]
  },
  {
   "cell_type": "code",
   "execution_count": null,
   "metadata": {},
   "outputs": [],
   "source": []
  }
 ],
 "metadata": {
  "kernelspec": {
   "display_name": "Python 3 (ipykernel)",
   "language": "python",
   "name": "python3"
  },
  "language_info": {
   "codemirror_mode": {
    "name": "ipython",
    "version": 3
   },
   "file_extension": ".py",
   "mimetype": "text/x-python",
   "name": "python",
   "nbconvert_exporter": "python",
   "pygments_lexer": "ipython3",
   "version": "3.9.7"
  }
 },
 "nbformat": 4,
 "nbformat_minor": 2
}
